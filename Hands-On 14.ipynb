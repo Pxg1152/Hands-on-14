{
  "nbformat": 4,
  "nbformat_minor": 0,
  "metadata": {
    "colab": {
      "provenance": []
    },
    "kernelspec": {
      "name": "python3",
      "display_name": "Python 3"
    },
    "language_info": {
      "name": "python"
    }
  },
  "cells": [
    {
      "cell_type": "markdown",
      "source": [
        "# Topological sort"
      ],
      "metadata": {
        "id": "IkSpaIZ0T5k9"
      }
    },
    {
      "cell_type": "code",
      "execution_count": 1,
      "metadata": {
        "colab": {
          "base_uri": "https://localhost:8080/"
        },
        "id": "VKUnr3sQTrVE",
        "outputId": "c930d5c7-1e4d-4fb4-a00c-f58fddeeee4c"
      },
      "outputs": [
        {
          "output_type": "stream",
          "name": "stdout",
          "text": [
            "[5, 4, 2, 3, 1, 0]\n"
          ]
        }
      ],
      "source": [
        "from collections import defaultdict\n",
        "\n",
        "class Graph:\n",
        "    def __init__(self, vertices):\n",
        "        self.graph = defaultdict(list)\n",
        "        self.V = vertices\n",
        "\n",
        "    def addEdge(self, u, v):\n",
        "        self.graph[u].append(v)\n",
        "\n",
        "    def topologicalSortUtil(self, v, visited, stack):\n",
        "        visited[v] = True\n",
        "        for i in self.graph[v]:\n",
        "            if not visited[i]:\n",
        "                self.topologicalSortUtil(i, visited, stack)\n",
        "        stack.insert(0, v)\n",
        "\n",
        "    def topologicalSort(self):\n",
        "        visited = [False] * self.V\n",
        "        stack = []\n",
        "        for i in range(self.V):\n",
        "            if not visited[i]:\n",
        "                self.topologicalSortUtil(i, visited, stack)\n",
        "        print(stack)\n",
        "\n",
        "# Test\n",
        "g = Graph(6)\n",
        "g.addEdge(5, 2)\n",
        "g.addEdge(5, 0)\n",
        "g.addEdge(4, 0)\n",
        "g.addEdge(4, 1)\n",
        "g.addEdge(2, 3)\n",
        "g.addEdge(3, 1)\n",
        "g.topologicalSort()"
      ]
    },
    {
      "cell_type": "markdown",
      "source": [
        "#Depth-First Search"
      ],
      "metadata": {
        "id": "A2PTf_RNUDQx"
      }
    },
    {
      "cell_type": "code",
      "source": [
        "from collections import defaultdict\n",
        "\n",
        "class Graph:\n",
        "    def __init__(self):\n",
        "        self.graph = defaultdict(list)\n",
        "\n",
        "    def addEdge(self, u, v):\n",
        "        self.graph[u].append(v)\n",
        "\n",
        "    def DFSUtil(self, v, visited):\n",
        "        visited.add(v)\n",
        "        print(v, end=' ')\n",
        "        for neighbour in self.graph[v]:\n",
        "            if neighbour not in visited:\n",
        "                self.DFSUtil(neighbour, visited)\n",
        "\n",
        "    def DFS(self, v):\n",
        "        visited = set()\n",
        "        self.DFSUtil(v, visited)\n",
        "\n",
        "# Test\n",
        "g = Graph()\n",
        "g.addEdge(0, 1)\n",
        "g.addEdge(0, 2)\n",
        "g.addEdge(1, 2)\n",
        "g.addEdge(2, 0)\n",
        "g.addEdge(2, 3)\n",
        "g.addEdge(3, 3)\n",
        "g.DFS(2)"
      ],
      "metadata": {
        "colab": {
          "base_uri": "https://localhost:8080/"
        },
        "id": "SRBUKmgIUIKb",
        "outputId": "eeafe0c0-0ff0-4937-e4fa-50fff22fb901"
      },
      "execution_count": 2,
      "outputs": [
        {
          "output_type": "stream",
          "name": "stdout",
          "text": [
            "2 0 1 3 "
          ]
        }
      ]
    },
    {
      "cell_type": "markdown",
      "source": [
        "#Kruskal algorithm"
      ],
      "metadata": {
        "id": "jr8rI_ZQUNKy"
      }
    },
    {
      "cell_type": "code",
      "source": [
        "class Graph:\n",
        "    def __init__(self, vertices):\n",
        "        self.V = vertices\n",
        "        self.graph = []\n",
        "\n",
        "    def addEdge(self, u, v, w):\n",
        "        self.graph.append([u, v, w])\n",
        "\n",
        "    def find(self, parent, i):\n",
        "        if parent[i] == i:\n",
        "            return i\n",
        "        return self.find(parent, parent[i])\n",
        "\n",
        "    def union(self, parent, rank, x, y):\n",
        "        xroot = self.find(parent, x)\n",
        "        yroot = self.find(parent, y)\n",
        "        if rank[xroot] < rank[yroot]:\n",
        "            parent[xroot] = yroot\n",
        "        elif rank[xroot] > rank[yroot]:\n",
        "            parent[yroot] = xroot\n",
        "        else:\n",
        "            parent[yroot] = xroot\n",
        "            rank[xroot] += 1\n",
        "\n",
        "    def KruskalMST(self):\n",
        "        result = []\n",
        "        i = 0\n",
        "        e = 0\n",
        "        self.graph = sorted(self.graph, key=lambda item: item[2])\n",
        "        parent = []\n",
        "        rank = []\n",
        "        for node in range(self.V):\n",
        "            parent.append(node)\n",
        "            rank.append(0)\n",
        "        while e < self.V - 1:\n",
        "            u, v, w = self.graph[i]\n",
        "            i = i + 1\n",
        "            x = self.find(parent, u)\n",
        "            y = self.find(parent, v)\n",
        "            if x != y:\n",
        "                e = e + 1\n",
        "                result.append([u, v, w])\n",
        "                self.union(parent, rank, x, y)\n",
        "        print(\"Following are the edges in the constructed MST\")\n",
        "        for u, v, weight in result:\n",
        "            print(\"%d -- %d == %d\" % (u, v, weight))\n",
        "\n",
        "# Test\n",
        "g = Graph(4)\n",
        "g.addEdge(0, 1, 10)\n",
        "g.addEdge(0, 2, 6)\n",
        "g.addEdge(0, 3, 5)\n",
        "g.addEdge(1, 3, 15)\n",
        "g.addEdge(2, 3, 4)\n",
        "g.KruskalMST()"
      ],
      "metadata": {
        "colab": {
          "base_uri": "https://localhost:8080/"
        },
        "id": "r8xOY2X_URJl",
        "outputId": "adaa6dd9-87d6-4c50-ed96-dd1accadf635"
      },
      "execution_count": 3,
      "outputs": [
        {
          "output_type": "stream",
          "name": "stdout",
          "text": [
            "Following are the edges in the constructed MST\n",
            "2 -- 3 == 4\n",
            "0 -- 3 == 5\n",
            "0 -- 1 == 10\n"
          ]
        }
      ]
    }
  ]
}